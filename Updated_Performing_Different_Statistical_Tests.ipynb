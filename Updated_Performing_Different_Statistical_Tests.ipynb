{
 "cells": [
  {
   "cell_type": "markdown",
   "id": "1bf0882e",
   "metadata": {},
   "source": [
    "# 1. Import and Display the data"
   ]
  },
  {
   "cell_type": "code",
   "execution_count": 1,
   "id": "e3b4107b",
   "metadata": {},
   "outputs": [],
   "source": [
    "import pandas as pd\n",
    "import numpy as np\n",
    "import matplotlib.pyplot as plt"
   ]
  },
  {
   "cell_type": "code",
   "execution_count": 2,
   "id": "1eee8eb9",
   "metadata": {},
   "outputs": [
    {
     "data": {
      "text/html": [
       "<div>\n",
       "<style scoped>\n",
       "    .dataframe tbody tr th:only-of-type {\n",
       "        vertical-align: middle;\n",
       "    }\n",
       "\n",
       "    .dataframe tbody tr th {\n",
       "        vertical-align: top;\n",
       "    }\n",
       "\n",
       "    .dataframe thead th {\n",
       "        text-align: right;\n",
       "    }\n",
       "</style>\n",
       "<table border=\"1\" class=\"dataframe\">\n",
       "  <thead>\n",
       "    <tr style=\"text-align: right;\">\n",
       "      <th></th>\n",
       "      <th>player</th>\n",
       "      <th>team</th>\n",
       "      <th>name</th>\n",
       "      <th>position</th>\n",
       "      <th>height</th>\n",
       "      <th>age</th>\n",
       "      <th>appearance</th>\n",
       "      <th>goals</th>\n",
       "      <th>assists</th>\n",
       "      <th>yellow cards</th>\n",
       "      <th>...</th>\n",
       "      <th>goals conceded</th>\n",
       "      <th>clean sheets</th>\n",
       "      <th>minutes played</th>\n",
       "      <th>days_injured</th>\n",
       "      <th>games_injured</th>\n",
       "      <th>award</th>\n",
       "      <th>current_value</th>\n",
       "      <th>highest_value</th>\n",
       "      <th>position_encoded</th>\n",
       "      <th>winger</th>\n",
       "    </tr>\n",
       "  </thead>\n",
       "  <tbody>\n",
       "    <tr>\n",
       "      <th>0</th>\n",
       "      <td>/david-de-gea/profil/spieler/59377</td>\n",
       "      <td>Manchester United</td>\n",
       "      <td>David de Gea</td>\n",
       "      <td>Goalkeeper</td>\n",
       "      <td>189.0</td>\n",
       "      <td>32.0</td>\n",
       "      <td>104</td>\n",
       "      <td>0.000000</td>\n",
       "      <td>0.000000</td>\n",
       "      <td>0.009585</td>\n",
       "      <td>...</td>\n",
       "      <td>1.217252</td>\n",
       "      <td>0.335463</td>\n",
       "      <td>9390</td>\n",
       "      <td>42</td>\n",
       "      <td>5</td>\n",
       "      <td>13</td>\n",
       "      <td>15000000</td>\n",
       "      <td>70000000</td>\n",
       "      <td>1</td>\n",
       "      <td>0</td>\n",
       "    </tr>\n",
       "    <tr>\n",
       "      <th>1</th>\n",
       "      <td>/jack-butland/profil/spieler/128899</td>\n",
       "      <td>Manchester United</td>\n",
       "      <td>Jack Butland</td>\n",
       "      <td>Goalkeeper</td>\n",
       "      <td>196.0</td>\n",
       "      <td>30.0</td>\n",
       "      <td>15</td>\n",
       "      <td>0.000000</td>\n",
       "      <td>0.000000</td>\n",
       "      <td>0.069018</td>\n",
       "      <td>...</td>\n",
       "      <td>1.242331</td>\n",
       "      <td>0.207055</td>\n",
       "      <td>1304</td>\n",
       "      <td>510</td>\n",
       "      <td>58</td>\n",
       "      <td>1</td>\n",
       "      <td>1500000</td>\n",
       "      <td>22000000</td>\n",
       "      <td>1</td>\n",
       "      <td>0</td>\n",
       "    </tr>\n",
       "    <tr>\n",
       "      <th>2</th>\n",
       "      <td>/tom-heaton/profil/spieler/34130</td>\n",
       "      <td>Manchester United</td>\n",
       "      <td>Tom Heaton</td>\n",
       "      <td>Goalkeeper</td>\n",
       "      <td>188.0</td>\n",
       "      <td>37.0</td>\n",
       "      <td>4</td>\n",
       "      <td>0.000000</td>\n",
       "      <td>0.000000</td>\n",
       "      <td>0.000000</td>\n",
       "      <td>...</td>\n",
       "      <td>0.616438</td>\n",
       "      <td>0.924658</td>\n",
       "      <td>292</td>\n",
       "      <td>697</td>\n",
       "      <td>84</td>\n",
       "      <td>4</td>\n",
       "      <td>600000</td>\n",
       "      <td>6000000</td>\n",
       "      <td>1</td>\n",
       "      <td>0</td>\n",
       "    </tr>\n",
       "    <tr>\n",
       "      <th>3</th>\n",
       "      <td>/lisandro-martinez/profil/spieler/480762</td>\n",
       "      <td>Manchester United</td>\n",
       "      <td>Lisandro Martínez</td>\n",
       "      <td>Defender Centre-Back</td>\n",
       "      <td>175.0</td>\n",
       "      <td>25.0</td>\n",
       "      <td>82</td>\n",
       "      <td>0.028090</td>\n",
       "      <td>0.056180</td>\n",
       "      <td>0.224719</td>\n",
       "      <td>...</td>\n",
       "      <td>0.000000</td>\n",
       "      <td>0.000000</td>\n",
       "      <td>6408</td>\n",
       "      <td>175</td>\n",
       "      <td>22</td>\n",
       "      <td>9</td>\n",
       "      <td>50000000</td>\n",
       "      <td>50000000</td>\n",
       "      <td>2</td>\n",
       "      <td>0</td>\n",
       "    </tr>\n",
       "    <tr>\n",
       "      <th>4</th>\n",
       "      <td>/raphael-varane/profil/spieler/164770</td>\n",
       "      <td>Manchester United</td>\n",
       "      <td>Raphaël Varane</td>\n",
       "      <td>Defender Centre-Back</td>\n",
       "      <td>191.0</td>\n",
       "      <td>30.0</td>\n",
       "      <td>63</td>\n",
       "      <td>0.017889</td>\n",
       "      <td>0.017889</td>\n",
       "      <td>0.053667</td>\n",
       "      <td>...</td>\n",
       "      <td>0.000000</td>\n",
       "      <td>0.000000</td>\n",
       "      <td>5031</td>\n",
       "      <td>238</td>\n",
       "      <td>51</td>\n",
       "      <td>21</td>\n",
       "      <td>40000000</td>\n",
       "      <td>80000000</td>\n",
       "      <td>2</td>\n",
       "      <td>0</td>\n",
       "    </tr>\n",
       "  </tbody>\n",
       "</table>\n",
       "<p>5 rows × 22 columns</p>\n",
       "</div>"
      ],
      "text/plain": [
       "                                     player               team  \\\n",
       "0        /david-de-gea/profil/spieler/59377  Manchester United   \n",
       "1       /jack-butland/profil/spieler/128899  Manchester United   \n",
       "2          /tom-heaton/profil/spieler/34130  Manchester United   \n",
       "3  /lisandro-martinez/profil/spieler/480762  Manchester United   \n",
       "4     /raphael-varane/profil/spieler/164770  Manchester United   \n",
       "\n",
       "                name              position  height   age  appearance  \\\n",
       "0       David de Gea            Goalkeeper   189.0  32.0         104   \n",
       "1       Jack Butland            Goalkeeper   196.0  30.0          15   \n",
       "2         Tom Heaton            Goalkeeper   188.0  37.0           4   \n",
       "3  Lisandro Martínez  Defender Centre-Back   175.0  25.0          82   \n",
       "4     Raphaël Varane  Defender Centre-Back   191.0  30.0          63   \n",
       "\n",
       "      goals   assists  yellow cards  ...  goals conceded  clean sheets  \\\n",
       "0  0.000000  0.000000      0.009585  ...        1.217252      0.335463   \n",
       "1  0.000000  0.000000      0.069018  ...        1.242331      0.207055   \n",
       "2  0.000000  0.000000      0.000000  ...        0.616438      0.924658   \n",
       "3  0.028090  0.056180      0.224719  ...        0.000000      0.000000   \n",
       "4  0.017889  0.017889      0.053667  ...        0.000000      0.000000   \n",
       "\n",
       "   minutes played  days_injured  games_injured  award  current_value  \\\n",
       "0            9390            42              5     13       15000000   \n",
       "1            1304           510             58      1        1500000   \n",
       "2             292           697             84      4         600000   \n",
       "3            6408           175             22      9       50000000   \n",
       "4            5031           238             51     21       40000000   \n",
       "\n",
       "   highest_value  position_encoded  winger  \n",
       "0       70000000                 1       0  \n",
       "1       22000000                 1       0  \n",
       "2        6000000                 1       0  \n",
       "3       50000000                 2       0  \n",
       "4       80000000                 2       0  \n",
       "\n",
       "[5 rows x 22 columns]"
      ]
     },
     "execution_count": 2,
     "metadata": {},
     "output_type": "execute_result"
    }
   ],
   "source": [
    "data = pd.read_csv(\"E:/Mayuresh/EY Project/Dataset/football_players_market_values.csv\")\n",
    "data.head()"
   ]
  },
  {
   "cell_type": "code",
   "execution_count": 3,
   "id": "291c3c2f",
   "metadata": {},
   "outputs": [
    {
     "data": {
      "text/html": [
       "<div>\n",
       "<style scoped>\n",
       "    .dataframe tbody tr th:only-of-type {\n",
       "        vertical-align: middle;\n",
       "    }\n",
       "\n",
       "    .dataframe tbody tr th {\n",
       "        vertical-align: top;\n",
       "    }\n",
       "\n",
       "    .dataframe thead th {\n",
       "        text-align: right;\n",
       "    }\n",
       "</style>\n",
       "<table border=\"1\" class=\"dataframe\">\n",
       "  <thead>\n",
       "    <tr style=\"text-align: right;\">\n",
       "      <th></th>\n",
       "      <th>team</th>\n",
       "      <th>name</th>\n",
       "      <th>position</th>\n",
       "      <th>height</th>\n",
       "      <th>age</th>\n",
       "      <th>appearance</th>\n",
       "      <th>goals</th>\n",
       "      <th>assists</th>\n",
       "      <th>yellow cards</th>\n",
       "      <th>second yellow cards</th>\n",
       "      <th>...</th>\n",
       "      <th>goals conceded</th>\n",
       "      <th>clean sheets</th>\n",
       "      <th>minutes played</th>\n",
       "      <th>days_injured</th>\n",
       "      <th>games_injured</th>\n",
       "      <th>award</th>\n",
       "      <th>current_value</th>\n",
       "      <th>highest_value</th>\n",
       "      <th>position_encoded</th>\n",
       "      <th>winger</th>\n",
       "    </tr>\n",
       "  </thead>\n",
       "  <tbody>\n",
       "    <tr>\n",
       "      <th>0</th>\n",
       "      <td>Manchester United</td>\n",
       "      <td>David de Gea</td>\n",
       "      <td>Goalkeeper</td>\n",
       "      <td>189.0</td>\n",
       "      <td>32.0</td>\n",
       "      <td>104</td>\n",
       "      <td>0.000000</td>\n",
       "      <td>0.000000</td>\n",
       "      <td>0.009585</td>\n",
       "      <td>0.0</td>\n",
       "      <td>...</td>\n",
       "      <td>1.217252</td>\n",
       "      <td>0.335463</td>\n",
       "      <td>9390</td>\n",
       "      <td>42</td>\n",
       "      <td>5</td>\n",
       "      <td>13</td>\n",
       "      <td>15000000</td>\n",
       "      <td>70000000</td>\n",
       "      <td>1</td>\n",
       "      <td>0</td>\n",
       "    </tr>\n",
       "    <tr>\n",
       "      <th>1</th>\n",
       "      <td>Manchester United</td>\n",
       "      <td>Jack Butland</td>\n",
       "      <td>Goalkeeper</td>\n",
       "      <td>196.0</td>\n",
       "      <td>30.0</td>\n",
       "      <td>15</td>\n",
       "      <td>0.000000</td>\n",
       "      <td>0.000000</td>\n",
       "      <td>0.069018</td>\n",
       "      <td>0.0</td>\n",
       "      <td>...</td>\n",
       "      <td>1.242331</td>\n",
       "      <td>0.207055</td>\n",
       "      <td>1304</td>\n",
       "      <td>510</td>\n",
       "      <td>58</td>\n",
       "      <td>1</td>\n",
       "      <td>1500000</td>\n",
       "      <td>22000000</td>\n",
       "      <td>1</td>\n",
       "      <td>0</td>\n",
       "    </tr>\n",
       "    <tr>\n",
       "      <th>2</th>\n",
       "      <td>Manchester United</td>\n",
       "      <td>Tom Heaton</td>\n",
       "      <td>Goalkeeper</td>\n",
       "      <td>188.0</td>\n",
       "      <td>37.0</td>\n",
       "      <td>4</td>\n",
       "      <td>0.000000</td>\n",
       "      <td>0.000000</td>\n",
       "      <td>0.000000</td>\n",
       "      <td>0.0</td>\n",
       "      <td>...</td>\n",
       "      <td>0.616438</td>\n",
       "      <td>0.924658</td>\n",
       "      <td>292</td>\n",
       "      <td>697</td>\n",
       "      <td>84</td>\n",
       "      <td>4</td>\n",
       "      <td>600000</td>\n",
       "      <td>6000000</td>\n",
       "      <td>1</td>\n",
       "      <td>0</td>\n",
       "    </tr>\n",
       "    <tr>\n",
       "      <th>3</th>\n",
       "      <td>Manchester United</td>\n",
       "      <td>Lisandro Martínez</td>\n",
       "      <td>Defender Centre-Back</td>\n",
       "      <td>175.0</td>\n",
       "      <td>25.0</td>\n",
       "      <td>82</td>\n",
       "      <td>0.028090</td>\n",
       "      <td>0.056180</td>\n",
       "      <td>0.224719</td>\n",
       "      <td>0.0</td>\n",
       "      <td>...</td>\n",
       "      <td>0.000000</td>\n",
       "      <td>0.000000</td>\n",
       "      <td>6408</td>\n",
       "      <td>175</td>\n",
       "      <td>22</td>\n",
       "      <td>9</td>\n",
       "      <td>50000000</td>\n",
       "      <td>50000000</td>\n",
       "      <td>2</td>\n",
       "      <td>0</td>\n",
       "    </tr>\n",
       "    <tr>\n",
       "      <th>4</th>\n",
       "      <td>Manchester United</td>\n",
       "      <td>Raphaël Varane</td>\n",
       "      <td>Defender Centre-Back</td>\n",
       "      <td>191.0</td>\n",
       "      <td>30.0</td>\n",
       "      <td>63</td>\n",
       "      <td>0.017889</td>\n",
       "      <td>0.017889</td>\n",
       "      <td>0.053667</td>\n",
       "      <td>0.0</td>\n",
       "      <td>...</td>\n",
       "      <td>0.000000</td>\n",
       "      <td>0.000000</td>\n",
       "      <td>5031</td>\n",
       "      <td>238</td>\n",
       "      <td>51</td>\n",
       "      <td>21</td>\n",
       "      <td>40000000</td>\n",
       "      <td>80000000</td>\n",
       "      <td>2</td>\n",
       "      <td>0</td>\n",
       "    </tr>\n",
       "  </tbody>\n",
       "</table>\n",
       "<p>5 rows × 21 columns</p>\n",
       "</div>"
      ],
      "text/plain": [
       "                team               name              position  height   age  \\\n",
       "0  Manchester United       David de Gea            Goalkeeper   189.0  32.0   \n",
       "1  Manchester United       Jack Butland            Goalkeeper   196.0  30.0   \n",
       "2  Manchester United         Tom Heaton            Goalkeeper   188.0  37.0   \n",
       "3  Manchester United  Lisandro Martínez  Defender Centre-Back   175.0  25.0   \n",
       "4  Manchester United     Raphaël Varane  Defender Centre-Back   191.0  30.0   \n",
       "\n",
       "   appearance     goals   assists  yellow cards  second yellow cards  ...  \\\n",
       "0         104  0.000000  0.000000      0.009585                  0.0  ...   \n",
       "1          15  0.000000  0.000000      0.069018                  0.0  ...   \n",
       "2           4  0.000000  0.000000      0.000000                  0.0  ...   \n",
       "3          82  0.028090  0.056180      0.224719                  0.0  ...   \n",
       "4          63  0.017889  0.017889      0.053667                  0.0  ...   \n",
       "\n",
       "   goals conceded  clean sheets  minutes played  days_injured  games_injured  \\\n",
       "0        1.217252      0.335463            9390            42              5   \n",
       "1        1.242331      0.207055            1304           510             58   \n",
       "2        0.616438      0.924658             292           697             84   \n",
       "3        0.000000      0.000000            6408           175             22   \n",
       "4        0.000000      0.000000            5031           238             51   \n",
       "\n",
       "   award  current_value  highest_value  position_encoded  winger  \n",
       "0     13       15000000       70000000                 1       0  \n",
       "1      1        1500000       22000000                 1       0  \n",
       "2      4         600000        6000000                 1       0  \n",
       "3      9       50000000       50000000                 2       0  \n",
       "4     21       40000000       80000000                 2       0  \n",
       "\n",
       "[5 rows x 21 columns]"
      ]
     },
     "execution_count": 3,
     "metadata": {},
     "output_type": "execute_result"
    }
   ],
   "source": [
    "data = data.drop('player', axis=1)\n",
    "data.head()"
   ]
  },
  {
   "cell_type": "code",
   "execution_count": 4,
   "id": "c74d0ada",
   "metadata": {},
   "outputs": [
    {
     "name": "stdout",
     "output_type": "stream",
     "text": [
      "<class 'pandas.core.frame.DataFrame'>\n",
      "RangeIndex: 10754 entries, 0 to 10753\n",
      "Data columns (total 21 columns):\n",
      " #   Column               Non-Null Count  Dtype  \n",
      "---  ------               --------------  -----  \n",
      " 0   team                 10754 non-null  object \n",
      " 1   name                 10754 non-null  object \n",
      " 2   position             10754 non-null  object \n",
      " 3   height               10754 non-null  float64\n",
      " 4   age                  10754 non-null  float64\n",
      " 5   appearance           10754 non-null  int64  \n",
      " 6   goals                10754 non-null  float64\n",
      " 7   assists              10754 non-null  float64\n",
      " 8   yellow cards         10754 non-null  float64\n",
      " 9   second yellow cards  10754 non-null  float64\n",
      " 10  red cards            10754 non-null  float64\n",
      " 11  goals conceded       10754 non-null  float64\n",
      " 12  clean sheets         10754 non-null  float64\n",
      " 13  minutes played       10754 non-null  int64  \n",
      " 14  days_injured         10754 non-null  int64  \n",
      " 15  games_injured        10754 non-null  int64  \n",
      " 16  award                10754 non-null  int64  \n",
      " 17  current_value        10754 non-null  int64  \n",
      " 18  highest_value        10754 non-null  int64  \n",
      " 19  position_encoded     10754 non-null  int64  \n",
      " 20  winger               10754 non-null  int64  \n",
      "dtypes: float64(9), int64(9), object(3)\n",
      "memory usage: 1.7+ MB\n"
     ]
    }
   ],
   "source": [
    "data.info()"
   ]
  },
  {
   "cell_type": "code",
   "execution_count": 5,
   "id": "c5d86249",
   "metadata": {},
   "outputs": [
    {
     "data": {
      "text/html": [
       "<div>\n",
       "<style scoped>\n",
       "    .dataframe tbody tr th:only-of-type {\n",
       "        vertical-align: middle;\n",
       "    }\n",
       "\n",
       "    .dataframe tbody tr th {\n",
       "        vertical-align: top;\n",
       "    }\n",
       "\n",
       "    .dataframe thead th {\n",
       "        text-align: right;\n",
       "    }\n",
       "</style>\n",
       "<table border=\"1\" class=\"dataframe\">\n",
       "  <thead>\n",
       "    <tr style=\"text-align: right;\">\n",
       "      <th></th>\n",
       "      <th>height</th>\n",
       "      <th>age</th>\n",
       "      <th>appearance</th>\n",
       "      <th>goals</th>\n",
       "      <th>assists</th>\n",
       "      <th>yellow cards</th>\n",
       "      <th>second yellow cards</th>\n",
       "      <th>red cards</th>\n",
       "      <th>goals conceded</th>\n",
       "      <th>clean sheets</th>\n",
       "      <th>minutes played</th>\n",
       "      <th>days_injured</th>\n",
       "      <th>games_injured</th>\n",
       "      <th>award</th>\n",
       "      <th>current_value</th>\n",
       "      <th>highest_value</th>\n",
       "      <th>position_encoded</th>\n",
       "      <th>winger</th>\n",
       "    </tr>\n",
       "  </thead>\n",
       "  <tbody>\n",
       "    <tr>\n",
       "      <th>count</th>\n",
       "      <td>10754.000000</td>\n",
       "      <td>10754.000000</td>\n",
       "      <td>10754.000000</td>\n",
       "      <td>10754.000000</td>\n",
       "      <td>10754.000000</td>\n",
       "      <td>10754.000000</td>\n",
       "      <td>10754.000000</td>\n",
       "      <td>10754.000000</td>\n",
       "      <td>10754.000000</td>\n",
       "      <td>10754.000000</td>\n",
       "      <td>10754.000000</td>\n",
       "      <td>10754.000000</td>\n",
       "      <td>10754.000000</td>\n",
       "      <td>10754.000000</td>\n",
       "      <td>1.075400e+04</td>\n",
       "      <td>1.075400e+04</td>\n",
       "      <td>10754.000000</td>\n",
       "      <td>10754.000000</td>\n",
       "    </tr>\n",
       "    <tr>\n",
       "      <th>mean</th>\n",
       "      <td>181.240353</td>\n",
       "      <td>26.041903</td>\n",
       "      <td>36.407011</td>\n",
       "      <td>0.125554</td>\n",
       "      <td>0.086978</td>\n",
       "      <td>0.189757</td>\n",
       "      <td>0.004666</td>\n",
       "      <td>0.006826</td>\n",
       "      <td>0.131655</td>\n",
       "      <td>0.044881</td>\n",
       "      <td>2470.789381</td>\n",
       "      <td>117.961689</td>\n",
       "      <td>15.826297</td>\n",
       "      <td>1.960759</td>\n",
       "      <td>3.622971e+06</td>\n",
       "      <td>6.152606e+06</td>\n",
       "      <td>2.713223</td>\n",
       "      <td>0.307513</td>\n",
       "    </tr>\n",
       "    <tr>\n",
       "      <th>std</th>\n",
       "      <td>6.969818</td>\n",
       "      <td>4.777629</td>\n",
       "      <td>26.526541</td>\n",
       "      <td>0.235585</td>\n",
       "      <td>0.143351</td>\n",
       "      <td>0.432388</td>\n",
       "      <td>0.025232</td>\n",
       "      <td>0.081143</td>\n",
       "      <td>0.442335</td>\n",
       "      <td>0.924437</td>\n",
       "      <td>2021.703271</td>\n",
       "      <td>175.206827</td>\n",
       "      <td>23.383606</td>\n",
       "      <td>3.743936</td>\n",
       "      <td>9.095410e+06</td>\n",
       "      <td>1.338988e+07</td>\n",
       "      <td>0.986356</td>\n",
       "      <td>0.461485</td>\n",
       "    </tr>\n",
       "    <tr>\n",
       "      <th>min</th>\n",
       "      <td>156.000000</td>\n",
       "      <td>15.000000</td>\n",
       "      <td>0.000000</td>\n",
       "      <td>0.000000</td>\n",
       "      <td>0.000000</td>\n",
       "      <td>0.000000</td>\n",
       "      <td>0.000000</td>\n",
       "      <td>0.000000</td>\n",
       "      <td>0.000000</td>\n",
       "      <td>0.000000</td>\n",
       "      <td>0.000000</td>\n",
       "      <td>0.000000</td>\n",
       "      <td>0.000000</td>\n",
       "      <td>0.000000</td>\n",
       "      <td>0.000000e+00</td>\n",
       "      <td>0.000000e+00</td>\n",
       "      <td>1.000000</td>\n",
       "      <td>0.000000</td>\n",
       "    </tr>\n",
       "    <tr>\n",
       "      <th>25%</th>\n",
       "      <td>176.000000</td>\n",
       "      <td>22.000000</td>\n",
       "      <td>12.000000</td>\n",
       "      <td>0.000000</td>\n",
       "      <td>0.000000</td>\n",
       "      <td>0.053191</td>\n",
       "      <td>0.000000</td>\n",
       "      <td>0.000000</td>\n",
       "      <td>0.000000</td>\n",
       "      <td>0.000000</td>\n",
       "      <td>660.000000</td>\n",
       "      <td>0.000000</td>\n",
       "      <td>0.000000</td>\n",
       "      <td>0.000000</td>\n",
       "      <td>3.000000e+05</td>\n",
       "      <td>4.500000e+05</td>\n",
       "      <td>2.000000</td>\n",
       "      <td>0.000000</td>\n",
       "    </tr>\n",
       "    <tr>\n",
       "      <th>50%</th>\n",
       "      <td>181.240353</td>\n",
       "      <td>26.000000</td>\n",
       "      <td>35.000000</td>\n",
       "      <td>0.045969</td>\n",
       "      <td>0.040773</td>\n",
       "      <td>0.150250</td>\n",
       "      <td>0.000000</td>\n",
       "      <td>0.000000</td>\n",
       "      <td>0.000000</td>\n",
       "      <td>0.000000</td>\n",
       "      <td>2101.500000</td>\n",
       "      <td>37.000000</td>\n",
       "      <td>5.000000</td>\n",
       "      <td>1.000000</td>\n",
       "      <td>8.000000e+05</td>\n",
       "      <td>1.500000e+06</td>\n",
       "      <td>3.000000</td>\n",
       "      <td>0.000000</td>\n",
       "    </tr>\n",
       "    <tr>\n",
       "      <th>75%</th>\n",
       "      <td>186.000000</td>\n",
       "      <td>29.000000</td>\n",
       "      <td>59.000000</td>\n",
       "      <td>0.172263</td>\n",
       "      <td>0.133136</td>\n",
       "      <td>0.248276</td>\n",
       "      <td>0.000000</td>\n",
       "      <td>0.000000</td>\n",
       "      <td>0.000000</td>\n",
       "      <td>0.000000</td>\n",
       "      <td>3968.000000</td>\n",
       "      <td>181.000000</td>\n",
       "      <td>24.000000</td>\n",
       "      <td>2.000000</td>\n",
       "      <td>3.000000e+06</td>\n",
       "      <td>5.000000e+06</td>\n",
       "      <td>4.000000</td>\n",
       "      <td>1.000000</td>\n",
       "    </tr>\n",
       "    <tr>\n",
       "      <th>max</th>\n",
       "      <td>206.000000</td>\n",
       "      <td>43.000000</td>\n",
       "      <td>107.000000</td>\n",
       "      <td>11.250000</td>\n",
       "      <td>4.000000</td>\n",
       "      <td>30.000000</td>\n",
       "      <td>1.000000</td>\n",
       "      <td>6.923077</td>\n",
       "      <td>9.000000</td>\n",
       "      <td>90.000000</td>\n",
       "      <td>9510.000000</td>\n",
       "      <td>2349.000000</td>\n",
       "      <td>339.000000</td>\n",
       "      <td>92.000000</td>\n",
       "      <td>1.800000e+08</td>\n",
       "      <td>2.000000e+08</td>\n",
       "      <td>4.000000</td>\n",
       "      <td>1.000000</td>\n",
       "    </tr>\n",
       "  </tbody>\n",
       "</table>\n",
       "</div>"
      ],
      "text/plain": [
       "             height           age    appearance         goals       assists  \\\n",
       "count  10754.000000  10754.000000  10754.000000  10754.000000  10754.000000   \n",
       "mean     181.240353     26.041903     36.407011      0.125554      0.086978   \n",
       "std        6.969818      4.777629     26.526541      0.235585      0.143351   \n",
       "min      156.000000     15.000000      0.000000      0.000000      0.000000   \n",
       "25%      176.000000     22.000000     12.000000      0.000000      0.000000   \n",
       "50%      181.240353     26.000000     35.000000      0.045969      0.040773   \n",
       "75%      186.000000     29.000000     59.000000      0.172263      0.133136   \n",
       "max      206.000000     43.000000    107.000000     11.250000      4.000000   \n",
       "\n",
       "       yellow cards  second yellow cards     red cards  goals conceded  \\\n",
       "count  10754.000000         10754.000000  10754.000000    10754.000000   \n",
       "mean       0.189757             0.004666      0.006826        0.131655   \n",
       "std        0.432388             0.025232      0.081143        0.442335   \n",
       "min        0.000000             0.000000      0.000000        0.000000   \n",
       "25%        0.053191             0.000000      0.000000        0.000000   \n",
       "50%        0.150250             0.000000      0.000000        0.000000   \n",
       "75%        0.248276             0.000000      0.000000        0.000000   \n",
       "max       30.000000             1.000000      6.923077        9.000000   \n",
       "\n",
       "       clean sheets  minutes played  days_injured  games_injured  \\\n",
       "count  10754.000000    10754.000000  10754.000000   10754.000000   \n",
       "mean       0.044881     2470.789381    117.961689      15.826297   \n",
       "std        0.924437     2021.703271    175.206827      23.383606   \n",
       "min        0.000000        0.000000      0.000000       0.000000   \n",
       "25%        0.000000      660.000000      0.000000       0.000000   \n",
       "50%        0.000000     2101.500000     37.000000       5.000000   \n",
       "75%        0.000000     3968.000000    181.000000      24.000000   \n",
       "max       90.000000     9510.000000   2349.000000     339.000000   \n",
       "\n",
       "              award  current_value  highest_value  position_encoded  \\\n",
       "count  10754.000000   1.075400e+04   1.075400e+04      10754.000000   \n",
       "mean       1.960759   3.622971e+06   6.152606e+06          2.713223   \n",
       "std        3.743936   9.095410e+06   1.338988e+07          0.986356   \n",
       "min        0.000000   0.000000e+00   0.000000e+00          1.000000   \n",
       "25%        0.000000   3.000000e+05   4.500000e+05          2.000000   \n",
       "50%        1.000000   8.000000e+05   1.500000e+06          3.000000   \n",
       "75%        2.000000   3.000000e+06   5.000000e+06          4.000000   \n",
       "max       92.000000   1.800000e+08   2.000000e+08          4.000000   \n",
       "\n",
       "             winger  \n",
       "count  10754.000000  \n",
       "mean       0.307513  \n",
       "std        0.461485  \n",
       "min        0.000000  \n",
       "25%        0.000000  \n",
       "50%        0.000000  \n",
       "75%        1.000000  \n",
       "max        1.000000  "
      ]
     },
     "execution_count": 5,
     "metadata": {},
     "output_type": "execute_result"
    }
   ],
   "source": [
    "data.describe()"
   ]
  },
  {
   "cell_type": "code",
   "execution_count": 6,
   "id": "d6da167d",
   "metadata": {},
   "outputs": [
    {
     "data": {
      "text/plain": [
       "(10754, 21)"
      ]
     },
     "execution_count": 6,
     "metadata": {},
     "output_type": "execute_result"
    }
   ],
   "source": [
    "data.shape"
   ]
  },
  {
   "cell_type": "markdown",
   "id": "827b24aa",
   "metadata": {},
   "source": [
    "# 2. Summary Statistics (mean, median, mode, max,..........)"
   ]
  },
  {
   "cell_type": "markdown",
   "id": "65740381",
   "metadata": {},
   "source": [
    "**Display Players with most clean sheets and least clean sheets**"
   ]
  },
  {
   "cell_type": "code",
   "execution_count": 7,
   "id": "1334be9c",
   "metadata": {},
   "outputs": [
    {
     "name": "stdout",
     "output_type": "stream",
     "text": [
      "Players with the minimum clean sheets: ['Antonio Mirante']\n"
     ]
    }
   ],
   "source": [
    "max_clean_sheets_value = data['clean sheets'].max()\n",
    "players_with_max_clean_sheets = data[data['clean sheets'] == max_clean_sheets_value]['name'].tolist()\n",
    "print(\"Players with the minimum clean sheets:\", players_with_max_clean_sheets)"
   ]
  },
  {
   "cell_type": "code",
   "execution_count": 8,
   "id": "8da8239c",
   "metadata": {},
   "outputs": [
    {
     "name": "stdout",
     "output_type": "stream",
     "text": [
      "Players with the minimum clean sheets:                        0\n",
      "0      Lisandro Martínez\n",
      "1         Raphaël Varane\n",
      "2          Harry Maguire\n",
      "3        Victor Lindelöf\n",
      "4             Phil Jones\n",
      "...                  ...\n",
      "9795       Aidan Simmons\n",
      "9796        Kusini Yengi\n",
      "9797     Nathanael Blair\n",
      "9798    Zachary Sapsford\n",
      "9799  Alexander Badolato\n",
      "\n",
      "[9800 rows x 1 columns]\n"
     ]
    }
   ],
   "source": [
    "min_clean_sheets_value = data['clean sheets'].min()\n",
    "players_with_min_clean_sheets = pd.DataFrame(data[data['clean sheets'] == min_clean_sheets_value]['name'].tolist())\n",
    "print(\"Players with the minimum clean sheets:\", players_with_min_clean_sheets)"
   ]
  },
  {
   "cell_type": "code",
   "execution_count": 9,
   "id": "ef0fa398",
   "metadata": {},
   "outputs": [
    {
     "data": {
      "text/html": [
       "<div>\n",
       "<style scoped>\n",
       "    .dataframe tbody tr th:only-of-type {\n",
       "        vertical-align: middle;\n",
       "    }\n",
       "\n",
       "    .dataframe tbody tr th {\n",
       "        vertical-align: top;\n",
       "    }\n",
       "\n",
       "    .dataframe thead th {\n",
       "        text-align: right;\n",
       "    }\n",
       "</style>\n",
       "<table border=\"1\" class=\"dataframe\">\n",
       "  <thead>\n",
       "    <tr style=\"text-align: right;\">\n",
       "      <th></th>\n",
       "      <th>team</th>\n",
       "      <th>name</th>\n",
       "      <th>position</th>\n",
       "      <th>height</th>\n",
       "      <th>age</th>\n",
       "      <th>appearance</th>\n",
       "      <th>goals</th>\n",
       "      <th>assists</th>\n",
       "      <th>yellow cards</th>\n",
       "      <th>second yellow cards</th>\n",
       "      <th>...</th>\n",
       "      <th>clean sheets</th>\n",
       "      <th>minutes played</th>\n",
       "      <th>days_injured</th>\n",
       "      <th>games_injured</th>\n",
       "      <th>award</th>\n",
       "      <th>current_value</th>\n",
       "      <th>highest_value</th>\n",
       "      <th>position_encoded</th>\n",
       "      <th>winger</th>\n",
       "      <th>player_position</th>\n",
       "    </tr>\n",
       "  </thead>\n",
       "  <tbody>\n",
       "    <tr>\n",
       "      <th>0</th>\n",
       "      <td>Manchester United</td>\n",
       "      <td>David de Gea</td>\n",
       "      <td>Goalkeeper</td>\n",
       "      <td>189.0</td>\n",
       "      <td>32.0</td>\n",
       "      <td>104</td>\n",
       "      <td>0.000000</td>\n",
       "      <td>0.000000</td>\n",
       "      <td>0.009585</td>\n",
       "      <td>0.0</td>\n",
       "      <td>...</td>\n",
       "      <td>0.335463</td>\n",
       "      <td>9390</td>\n",
       "      <td>42</td>\n",
       "      <td>5</td>\n",
       "      <td>13</td>\n",
       "      <td>15000000</td>\n",
       "      <td>70000000</td>\n",
       "      <td>1</td>\n",
       "      <td>0</td>\n",
       "      <td>Goalkeeper</td>\n",
       "    </tr>\n",
       "    <tr>\n",
       "      <th>1</th>\n",
       "      <td>Manchester United</td>\n",
       "      <td>Jack Butland</td>\n",
       "      <td>Goalkeeper</td>\n",
       "      <td>196.0</td>\n",
       "      <td>30.0</td>\n",
       "      <td>15</td>\n",
       "      <td>0.000000</td>\n",
       "      <td>0.000000</td>\n",
       "      <td>0.069018</td>\n",
       "      <td>0.0</td>\n",
       "      <td>...</td>\n",
       "      <td>0.207055</td>\n",
       "      <td>1304</td>\n",
       "      <td>510</td>\n",
       "      <td>58</td>\n",
       "      <td>1</td>\n",
       "      <td>1500000</td>\n",
       "      <td>22000000</td>\n",
       "      <td>1</td>\n",
       "      <td>0</td>\n",
       "      <td>Goalkeeper</td>\n",
       "    </tr>\n",
       "    <tr>\n",
       "      <th>2</th>\n",
       "      <td>Manchester United</td>\n",
       "      <td>Tom Heaton</td>\n",
       "      <td>Goalkeeper</td>\n",
       "      <td>188.0</td>\n",
       "      <td>37.0</td>\n",
       "      <td>4</td>\n",
       "      <td>0.000000</td>\n",
       "      <td>0.000000</td>\n",
       "      <td>0.000000</td>\n",
       "      <td>0.0</td>\n",
       "      <td>...</td>\n",
       "      <td>0.924658</td>\n",
       "      <td>292</td>\n",
       "      <td>697</td>\n",
       "      <td>84</td>\n",
       "      <td>4</td>\n",
       "      <td>600000</td>\n",
       "      <td>6000000</td>\n",
       "      <td>1</td>\n",
       "      <td>0</td>\n",
       "      <td>Goalkeeper</td>\n",
       "    </tr>\n",
       "    <tr>\n",
       "      <th>3</th>\n",
       "      <td>Manchester United</td>\n",
       "      <td>Lisandro Martínez</td>\n",
       "      <td>Defender Centre-Back</td>\n",
       "      <td>175.0</td>\n",
       "      <td>25.0</td>\n",
       "      <td>82</td>\n",
       "      <td>0.028090</td>\n",
       "      <td>0.056180</td>\n",
       "      <td>0.224719</td>\n",
       "      <td>0.0</td>\n",
       "      <td>...</td>\n",
       "      <td>0.000000</td>\n",
       "      <td>6408</td>\n",
       "      <td>175</td>\n",
       "      <td>22</td>\n",
       "      <td>9</td>\n",
       "      <td>50000000</td>\n",
       "      <td>50000000</td>\n",
       "      <td>2</td>\n",
       "      <td>0</td>\n",
       "      <td>Defender</td>\n",
       "    </tr>\n",
       "    <tr>\n",
       "      <th>4</th>\n",
       "      <td>Manchester United</td>\n",
       "      <td>Raphaël Varane</td>\n",
       "      <td>Defender Centre-Back</td>\n",
       "      <td>191.0</td>\n",
       "      <td>30.0</td>\n",
       "      <td>63</td>\n",
       "      <td>0.017889</td>\n",
       "      <td>0.017889</td>\n",
       "      <td>0.053667</td>\n",
       "      <td>0.0</td>\n",
       "      <td>...</td>\n",
       "      <td>0.000000</td>\n",
       "      <td>5031</td>\n",
       "      <td>238</td>\n",
       "      <td>51</td>\n",
       "      <td>21</td>\n",
       "      <td>40000000</td>\n",
       "      <td>80000000</td>\n",
       "      <td>2</td>\n",
       "      <td>0</td>\n",
       "      <td>Defender</td>\n",
       "    </tr>\n",
       "  </tbody>\n",
       "</table>\n",
       "<p>5 rows × 22 columns</p>\n",
       "</div>"
      ],
      "text/plain": [
       "                team               name              position  height   age  \\\n",
       "0  Manchester United       David de Gea            Goalkeeper   189.0  32.0   \n",
       "1  Manchester United       Jack Butland            Goalkeeper   196.0  30.0   \n",
       "2  Manchester United         Tom Heaton            Goalkeeper   188.0  37.0   \n",
       "3  Manchester United  Lisandro Martínez  Defender Centre-Back   175.0  25.0   \n",
       "4  Manchester United     Raphaël Varane  Defender Centre-Back   191.0  30.0   \n",
       "\n",
       "   appearance     goals   assists  yellow cards  second yellow cards  ...  \\\n",
       "0         104  0.000000  0.000000      0.009585                  0.0  ...   \n",
       "1          15  0.000000  0.000000      0.069018                  0.0  ...   \n",
       "2           4  0.000000  0.000000      0.000000                  0.0  ...   \n",
       "3          82  0.028090  0.056180      0.224719                  0.0  ...   \n",
       "4          63  0.017889  0.017889      0.053667                  0.0  ...   \n",
       "\n",
       "   clean sheets  minutes played  days_injured  games_injured  award  \\\n",
       "0      0.335463            9390            42              5     13   \n",
       "1      0.207055            1304           510             58      1   \n",
       "2      0.924658             292           697             84      4   \n",
       "3      0.000000            6408           175             22      9   \n",
       "4      0.000000            5031           238             51     21   \n",
       "\n",
       "   current_value  highest_value  position_encoded  winger  player_position  \n",
       "0       15000000       70000000                 1       0       Goalkeeper  \n",
       "1        1500000       22000000                 1       0       Goalkeeper  \n",
       "2         600000        6000000                 1       0       Goalkeeper  \n",
       "3       50000000       50000000                 2       0         Defender  \n",
       "4       40000000       80000000                 2       0         Defender  \n",
       "\n",
       "[5 rows x 22 columns]"
      ]
     },
     "execution_count": 9,
     "metadata": {},
     "output_type": "execute_result"
    }
   ],
   "source": [
    "#Assigning A new column\n",
    "def player_position(value):\n",
    "    attack_patterns = {'Attack', 'Attack Centre-Forward', 'Attack-LeftWinger', 'Attack-RightWinger', 'Attack-SecondStriker'}\n",
    "    defender_patterns = {'Defender', 'Defender Centre-Back', 'Defender Left-Back', 'Defender Right-Back'}\n",
    "    goalkeeper_patterns = {'Goalkeeper'}\n",
    "    midfield_patterns = {'midfield', 'midfield-AttackingMidfield', 'midfield-CentralMidfield', 'midfield-DefensiveMidfield', 'midfield-LeftMidfield', 'midfield-RightMidfield'}\n",
    "\n",
    "    if value in attack_patterns:\n",
    "        return 'Attack'\n",
    "    elif value in defender_patterns:\n",
    "        return 'Defender'\n",
    "    elif value in goalkeeper_patterns:\n",
    "        return 'Goalkeeper'\n",
    "    elif value in midfield_patterns:\n",
    "        return 'Midfield'\n",
    "    else:\n",
    "        return 'Unknown'\n",
    "    \n",
    "data_new = data\n",
    "data_new['player_position'] = data['position'].apply(player_position)\n",
    "\n",
    "data_new.head()"
   ]
  },
  {
   "cell_type": "code",
   "execution_count": 10,
   "id": "82878219",
   "metadata": {},
   "outputs": [
    {
     "name": "stdout",
     "output_type": "stream",
     "text": [
      "award              0    1    2    3    4    5   6   7   8   9   ...  36  37  \\\n",
      "player_position                                                 ...           \n",
      "Attack           1247  579  340  205  129  103  59  55  38  27  ...   1   1   \n",
      "Defender         1561  770  377  249  159   93  63  65  31  35  ...   0   0   \n",
      "Goalkeeper        564  240  148   66   53   37  32  23  14  12  ...   1   0   \n",
      "Midfield         1401  622  358  210  119   90  62  56  38  36  ...   0   1   \n",
      "\n",
      "award            38  42  43  53  57  65  90  92  \n",
      "player_position                                  \n",
      "Attack            0   0   0   1   1   1   1   1  \n",
      "Defender          0   0   1   0   0   0   0   0  \n",
      "Goalkeeper        0   0   0   0   0   0   0   0  \n",
      "Midfield          1   1   0   0   0   0   0   0  \n",
      "\n",
      "[4 rows x 46 columns]\n"
     ]
    }
   ],
   "source": [
    "cross_tab = pd.crosstab(data_new['player_position'], data_new['award'])\n",
    "cross_tab = pd.DataFrame(cross_tab)\n",
    "print(cross_tab)"
   ]
  },
  {
   "cell_type": "markdown",
   "id": "c7da4c06",
   "metadata": {},
   "source": [
    "**Players with the highest lowest market value ever and player with the currest highest market value**"
   ]
  },
  {
   "cell_type": "code",
   "execution_count": 11,
   "id": "06a4e60e",
   "metadata": {},
   "outputs": [
    {
     "name": "stdout",
     "output_type": "stream",
     "text": [
      "Players with the highest_market_values: ['Kylian Mbappé']\n",
      "Market Value: 200000000\n"
     ]
    }
   ],
   "source": [
    "highest_market_value = data['highest_value'].max()\n",
    "players_with_highest_market_value = data[data['highest_value'] == highest_market_value]['name'].tolist()\n",
    "print(\"Players with the highest_market_values:\", players_with_highest_market_value)\n",
    "print(\"Market Value:\",highest_market_value)"
   ]
  },
  {
   "cell_type": "code",
   "execution_count": 12,
   "id": "7af21ff2",
   "metadata": {},
   "outputs": [
    {
     "name": "stdout",
     "output_type": "stream",
     "text": [
      "Players with the current highest_market_values: ['Kylian Mbappé']\n",
      "Market Value: 180000000\n"
     ]
    }
   ],
   "source": [
    "current_highest_market_value = data['current_value'].max()\n",
    "players_with_current_highest_market_value = data[data['current_value'] == current_highest_market_value]['name'].tolist()\n",
    "print(\"Players with the current highest_market_values:\", players_with_current_highest_market_value)\n",
    "print(\"Market Value:\",current_highest_market_value)"
   ]
  },
  {
   "cell_type": "markdown",
   "id": "8155c8cc",
   "metadata": {},
   "source": [
    "**Player with the most awards**"
   ]
  },
  {
   "cell_type": "code",
   "execution_count": 13,
   "id": "df727941",
   "metadata": {},
   "outputs": [
    {
     "name": "stdout",
     "output_type": "stream",
     "text": [
      "Players with the most awards: ['Lionel Messi']\n",
      "Awards: 92\n"
     ]
    }
   ],
   "source": [
    "most_awards = data['award'].max()\n",
    "players_with_most_awards = data[data['award'] == most_awards]['name'].tolist()\n",
    "print(\"Players with the most awards:\", players_with_most_awards)\n",
    "print(\"Awards:\",most_awards)"
   ]
  },
  {
   "cell_type": "markdown",
   "id": "82e6ee72",
   "metadata": {},
   "source": [
    "**Player with the most goals**"
   ]
  },
  {
   "cell_type": "code",
   "execution_count": 43,
   "id": "29bf14f6",
   "metadata": {},
   "outputs": [
    {
     "name": "stdout",
     "output_type": "stream",
     "text": [
      "Players with the most goals: ['Rakan Al-Dosari']\n",
      "Goals: 11.25\n"
     ]
    }
   ],
   "source": [
    "most_goals = data['goals'].max()\n",
    "players_with_the_most_goals = data[data['goals'] == most_goals]['name'].tolist()\n",
    "print(\"Players with the most goals:\", players_with_the_most_goals)\n",
    "print(\"Goals:\",most_goals)"
   ]
  },
  {
   "cell_type": "markdown",
   "id": "0c7dcc13",
   "metadata": {},
   "source": [
    "**Player with the most assist**"
   ]
  },
  {
   "cell_type": "code",
   "execution_count": 44,
   "id": "bb0e20d0",
   "metadata": {},
   "outputs": [
    {
     "name": "stdout",
     "output_type": "stream",
     "text": [
      "Players with the most assists: ['Riki Harakawa']\n",
      "Assists: 4.0\n"
     ]
    }
   ],
   "source": [
    "most_assists = data['assists'].max()\n",
    "players_with_the_most_assists = data[data['assists'] == most_assists]['name'].tolist()\n",
    "print(\"Players with the most assists:\", players_with_the_most_assists)\n",
    "print(\"Assists:\",most_assists)"
   ]
  },
  {
   "cell_type": "markdown",
   "id": "0498f877",
   "metadata": {},
   "source": [
    "**Check Skewness of the columns mentioned below**"
   ]
  },
  {
   "cell_type": "code",
   "execution_count": 14,
   "id": "5b3c110a",
   "metadata": {},
   "outputs": [
    {
     "name": "stdout",
     "output_type": "stream",
     "text": [
      "goals            14.259632\n",
      "age               0.353921\n",
      "assists           7.352212\n",
      "current_value     6.452558\n",
      "highest_value     5.068770\n",
      "days_injured      2.388812\n",
      "games_injured     2.347180\n",
      "dtype: float64\n"
     ]
    }
   ],
   "source": [
    "from scipy.stats import skew\n",
    "\n",
    "columns = ['goals','age','assists','current_value','highest_value','days_injured','games_injured']\n",
    "skewness = data[columns].apply(skew)\n",
    "print(skewness)\n"
   ]
  },
  {
   "cell_type": "code",
   "execution_count": 15,
   "id": "4ebe5a91",
   "metadata": {},
   "outputs": [
    {
     "data": {
      "image/png": "[encoded data removed]",
      "text/plain": [
       "<Figure size 1000x600 with 1 Axes>"
      ]
     },
     "metadata": {},
     "output_type": "display_data"
    }
   ],
   "source": [
    "import seaborn as sns\n",
    "plt.figure(figsize=(10, 6))\n",
    "sns.barplot(x=skewness.index, y=skewness.values, color='green')\n",
    "plt.title('Skewness for Each Column')\n",
    "plt.xlabel('Columns')\n",
    "plt.ylabel('Skewness')\n",
    "plt.xticks(rotation=45)\n",
    "plt.show()"
   ]
  },
  {
   "cell_type": "markdown",
   "id": "aca2e10c",
   "metadata": {},
   "source": [
    "# 3.Statistical Hypothesis Tests"
   ]
  },
  {
   "cell_type": "markdown",
   "id": "e6c6d89a",
   "metadata": {},
   "source": [
    "### Normality Test: Tests whether a data sample has a Gaussian distribution.\n",
    "### Shapiro-Wilk Test"
   ]
  },
  {
   "cell_type": "code",
   "execution_count": 16,
   "id": "2ebd1356",
   "metadata": {},
   "outputs": [],
   "source": [
    "from scipy import stats\n",
    "from scipy.stats import ttest_ind #ttest\n",
    "from scipy.stats import chi2_contingency #for chi-square test\n",
    "from scipy.stats import f_oneway #For Anova"
   ]
  },
  {
   "cell_type": "code",
   "execution_count": 17,
   "id": "1a07f67b",
   "metadata": {},
   "outputs": [
    {
     "name": "stdout",
     "output_type": "stream",
     "text": [
      "stat= 0.39293527603149414\n",
      "p-value: 0.0\n",
      "Data is not Gaussian\n"
     ]
    }
   ],
   "source": [
    "from scipy.stats import shapiro\n",
    "import warnings\n",
    "warnings.filterwarnings(\"ignore\")\n",
    "\n",
    "current_value = data['current_value']\n",
    "\n",
    "stat, p_value = shapiro(current_value)\n",
    "print('stat=',stat)\n",
    "print('p-value:',p_value)\n",
    "if p_value > 0.05:\n",
    "    print('Data is Gaussian')\n",
    "else:\n",
    "    print('Data is not Gaussian')"
   ]
  },
  {
   "cell_type": "markdown",
   "id": "d5b4bb69",
   "metadata": {},
   "source": [
    "**Data is left skewed hence not normally distributed. Check the historam graph plot below**"
   ]
  },
  {
   "cell_type": "markdown",
   "id": "43b0de29",
   "metadata": {},
   "source": [
    " "
   ]
  },
  {
   "cell_type": "code",
   "execution_count": 18,
   "id": "466f1fd1",
   "metadata": {},
   "outputs": [
    {
     "data": {
      "image/png": "[encoded data removed]",
      "text/plain": [
       "<Figure size 1400x600 with 1 Axes>"
      ]
     },
     "metadata": {},
     "output_type": "display_data"
    }
   ],
   "source": [
    "import matplotlib.pyplot as plt\n",
    "\n",
    "plt.figure(figsize=(14,6))\n",
    "plt.hist(data['current_value'])\n",
    "plt.show()"
   ]
  },
  {
   "cell_type": "markdown",
   "id": "45bb2a98",
   "metadata": {},
   "source": [
    " "
   ]
  },
  {
   "cell_type": "markdown",
   "id": "fb0ee7a1",
   "metadata": {},
   "source": [
    " "
   ]
  },
  {
   "cell_type": "markdown",
   "id": "cb21b023",
   "metadata": {},
   "source": [
    "### Correlation Test\n",
    "### Pearson’s Correlation Coefficient :Tests whether two samples have a linear relationship."
   ]
  },
  {
   "cell_type": "markdown",
   "id": "fdb82ac5",
   "metadata": {},
   "source": [
    "Assumptions\n",
    "\n",
    "1) Observations in each sample are independent and identically distributed.\n",
    "\n",
    "2) Observations in each sample are normally distributed.\n",
    "\n",
    "3) Observations in each sample have the same variance."
   ]
  },
  {
   "cell_type": "code",
   "execution_count": 19,
   "id": "73a216c8",
   "metadata": {},
   "outputs": [
    {
     "name": "stdout",
     "output_type": "stream",
     "text": [
      "stat= -0.050156027958007034\n",
      "p-value: 1.9512206983619678e-07\n",
      "Age and Current_value are probably dependent hence age has affect on current value\n"
     ]
    }
   ],
   "source": [
    "from scipy.stats import pearsonr\n",
    "age = data['age']\n",
    "value = data['current_value']\n",
    "\n",
    "stat, p_value = pearsonr(age, value)\n",
    "print('stat=',stat)\n",
    "print('p-value:',p_value)\n",
    "\n",
    "if p_value > 0.05:\n",
    "    print('Age and Current_value are probably independent hence age has no affect on current value. Age increasese')\n",
    "else:\n",
    "    print('Age and Current_value are probably dependent hence age has affect on current value')"
   ]
  },
  {
   "cell_type": "markdown",
   "id": "eeba75af",
   "metadata": {},
   "source": [
    "**Players above the age of 30 usually have lower market Value. Proved in the Scatter plot Below**"
   ]
  },
  {
   "cell_type": "code",
   "execution_count": 20,
   "id": "fc575caf",
   "metadata": {},
   "outputs": [
    {
     "data": {
      "image/png": "[encoded data removed]",
      "text/plain": [
       "<Figure size 1000x600 with 1 Axes>"
      ]
     },
     "metadata": {},
     "output_type": "display_data"
    }
   ],
   "source": [
    "age = data['age']\n",
    "current_value = data['current_value']\n",
    "\n",
    "plt.figure(figsize=(10, 6))\n",
    "plt.scatter(age, current_value, alpha=0.5, color='blue')\n",
    "plt.title('Age vs. Market Value')\n",
    "plt.xlabel('Age')\n",
    "plt.ylabel('Current Value')\n",
    "plt.show()"
   ]
  },
  {
   "cell_type": "markdown",
   "id": "151ac966",
   "metadata": {},
   "source": [
    "### Chi-Square Test: Tests whether two categorical variables are related or independent."
   ]
  },
  {
   "cell_type": "markdown",
   "id": "8000f618",
   "metadata": {},
   "source": [
    "Assumptions\n",
    "\n",
    "1) Observations used in the calculation of the contingency table are independent.\n",
    "2) 25 or more examples in each cell of the contingency table"
   ]
  },
  {
   "cell_type": "code",
   "execution_count": 21,
   "id": "c24fd8ac",
   "metadata": {},
   "outputs": [
    {
     "name": "stdout",
     "output_type": "stream",
     "text": [
      "Chi-Square test statistic: 135.14782601716198\n",
      "The p-value is: 2.681177813907397e-15\n",
      "The degree of freedom is: 30\n",
      "There is a statistical significant difference in players position and current market. Hence the player postion has an effect on his market value\n"
     ]
    }
   ],
   "source": [
    "contingency_table = pd.crosstab(data[\"player_position\"],data[\"highest_value\"]) \n",
    "data['highest_value_bins'] = pd.cut(data['highest_value'], bins=[0, 10000000, 20000000, 30000000, 40000000,50000000,60000000,70000000,80000000,90000000,100000000, float('inf')],\n",
    "                                   labels=['0-10000000', '10000001-20000000', '20000001-30000000', '30000001-40000000','40000001-50000000','50000001-60000000','60000001-70000000','70000001-80000000','80000001-90000000','90000001-100000000', '100000000+'])\n",
    "\n",
    "contingency_table = pd.crosstab(data[\"player_position\"],data[\"highest_value_bins\"]) \n",
    "chi2, p_value, dof, expected = stats.chi2_contingency(contingency_table) \n",
    "\n",
    "\n",
    "print(\"Chi-Square test statistic:\",chi2)\n",
    "print(\"The p-value is:\",p_value)\n",
    "print(\"The degree of freedom is:\",dof)\n",
    "\n",
    "\n",
    "if p_value < 0.05:\n",
    "    print('There is a statistical significant difference in players position and current market. Hence the player postion has an effect on his market value')\n",
    "else:\n",
    "    print('There is a no major statistical significant difference in players position and current market. Hence the player postion has no a effect on his market value')"
   ]
  },
  {
   "cell_type": "markdown",
   "id": "5d291f3a",
   "metadata": {},
   "source": [
    "**Usually players who play in forward positions like a striker, winger and a center-forward have a higer market value than the players who play in midfield and defence.**"
   ]
  },
  {
   "cell_type": "markdown",
   "id": "0d099fa5",
   "metadata": {},
   "source": [
    "### Parametric Test"
   ]
  },
  {
   "cell_type": "markdown",
   "id": "4ecd3b2d",
   "metadata": {},
   "source": [
    "### T-Test Test (Independent Sample T-Test)"
   ]
  },
  {
   "cell_type": "code",
   "execution_count": 22,
   "id": "4ed39312",
   "metadata": {},
   "outputs": [
    {
     "name": "stdout",
     "output_type": "stream",
     "text": [
      "The T-statistics: -41.30707808373417\n",
      "The p value is: 0.0\n",
      "There is a statistical significant difference in age and current value. Hence players age has an affect on the current market value\n"
     ]
    }
   ],
   "source": [
    "from scipy.stats import ttest_rel\n",
    "\n",
    "age = data['age']\n",
    "current_value = data['current_value']\n",
    "\n",
    "t_stat, p_value = ttest_ind(age, current_value, equal_var=True)\n",
    "\n",
    "print('The T-statistics:' ,t_stat)\n",
    "print('The p value is:',p_value)\n",
    "\n",
    "\n",
    "if p_value < 0.05:\n",
    "    print('There is a statistical significant difference in age and current value. Hence players age has an affect on the current market value')\n",
    "else:\n",
    "    print('There is no statistical significant difference in age and current value. Hence players age has no an affect on the current market value')"
   ]
  },
  {
   "cell_type": "markdown",
   "id": "345caefe",
   "metadata": {},
   "source": [
    "### Using ANOVA to determine a correlation between current value and days/games injured"
   ]
  },
  {
   "cell_type": "code",
   "execution_count": 23,
   "id": "55a03d46",
   "metadata": {},
   "outputs": [
    {
     "name": "stdout",
     "output_type": "stream",
     "text": [
      "The f-statistic is: 1706.2314094204658\n",
      "The p-Value is: 0.0\n",
      "There is a significant influence of player age and number of injured games/days on current value\n"
     ]
    }
   ],
   "source": [
    "days_injured = data['days_injured']\n",
    "age = data['age']\n",
    "current_value = data['current_value']\n",
    "\n",
    "f_statistic, p_value = f_oneway(days_injured,age,current_value)\n",
    "\n",
    "print(\"The f-statistic is:\", f_statistic)\n",
    "print(\"The p-Value is:\", p_value)\n",
    "\n",
    "if p_value < 0.05:\n",
    "    print('There is a significant influence of player age and number of injured games/days on current value')\n",
    "else:\n",
    "    print('There is no significant influence of player age and number of injured games/days on current value')"
   ]
  },
  {
   "cell_type": "markdown",
   "id": "8963d40d",
   "metadata": {},
   "source": [
    "**The more number of days/games a player is injured the less their market value is.**"
   ]
  },
  {
   "cell_type": "code",
   "execution_count": 24,
   "id": "cb9578f5",
   "metadata": {},
   "outputs": [
    {
     "name": "stdout",
     "output_type": "stream",
     "text": [
      "f-statistic: 38.189781721560756\n",
      "p-value: 1.535199137892354e-24\n",
      "There is a statistically significant difference in highest market values among playing positions.\n"
     ]
    }
   ],
   "source": [
    "from scipy.stats import f_oneway\n",
    "\n",
    "player_position = data['player_position'].unique()\n",
    "\n",
    "player_position_highest_value = [data[data['player_position'] == pos]['highest_value'] for pos in player_position]\n",
    "\n",
    "f_statistic, p_value = f_oneway(*player_position_highest_value)\n",
    "\n",
    "print('f-statistic:', f_statistic)\n",
    "print('p-value:', p_value)\n",
    "\n",
    "if p_value < 0.05:\n",
    "    print('There is a statistically significant difference in highest market values among playing positions.')\n",
    "else:\n",
    "    print('There is no statistically significant difference in highest market values among playing positions.')"
   ]
  },
  {
   "cell_type": "markdown",
   "id": "3d6e3936",
   "metadata": {},
   "source": [
    "**As proved in chi-square test. Usually players who play in forward positions like a striker, winger and a center-forward have a higer market value than the players who play in midfield and defence.**"
   ]
  },
  {
   "cell_type": "code",
   "execution_count": 25,
   "id": "235d1e2e",
   "metadata": {},
   "outputs": [
    {
     "data": {
      "image/png": "[encoded data removed]",
      "text/plain": [
       "<Figure size 1200x800 with 1 Axes>"
      ]
     },
     "metadata": {},
     "output_type": "display_data"
    }
   ],
   "source": [
    "import matplotlib.pyplot as plt\n",
    "\n",
    "plt.figure(figsize=(12, 8))\n",
    "plt.bar(data['player_position'], data['highest_value'], color='blue')\n",
    "plt.title('Playing Position VS Highest Market Value')\n",
    "plt.xlabel('Playing Position')\n",
    "plt.ylabel('Highest Market Value')\n",
    "plt.xticks(rotation=50, ha='right') \n",
    "plt.show()"
   ]
  },
  {
   "cell_type": "markdown",
   "id": "bf6e0914",
   "metadata": {},
   "source": [
    " "
   ]
  },
  {
   "cell_type": "markdown",
   "id": "1f23346a",
   "metadata": {},
   "source": [
    " "
   ]
  },
  {
   "cell_type": "markdown",
   "id": "d386a941",
   "metadata": {},
   "source": [
    "### ANOVA: Test if there's a significant difference in average goals scored by players in different positions "
   ]
  },
  {
   "cell_type": "code",
   "execution_count": 26,
   "id": "077bdcba",
   "metadata": {},
   "outputs": [
    {
     "name": "stdout",
     "output_type": "stream",
     "text": [
      "f statistic: 961.1581511011225\n",
      "p-value: 0.0\n",
      "There is a significant difference in average goals scored by players in different positions.\n"
     ]
    }
   ],
   "source": [
    "positions = data['player_position']\n",
    "goals = data['goals']\n",
    "\n",
    "goals_by_position = {}\n",
    "for position in positions.unique():\n",
    "    goals_by_position[position] = goals[positions == position]\n",
    "\n",
    "f_statistic, p_value = f_oneway(*goals_by_position.values())\n",
    "\n",
    "print(f\"f statistic: {f_statistic}\")\n",
    "print(f\"p-value: {p_value}\")\n",
    "\n",
    "if p_value < 0.05:\n",
    "    print(\"There is a significant difference in average goals scored by players in different positions.\")\n",
    "else:\n",
    "    print(\"There is no significant difference in average goals scored by players in different positions.\")"
   ]
  },
  {
   "cell_type": "markdown",
   "id": "5f2f7a61",
   "metadata": {},
   "source": [
    "**This result is acceptable as Forward/Attacking players are expected to score more goals than midfielders and defenders. We can futher prove this from the below graph**"
   ]
  },
  {
   "cell_type": "code",
   "execution_count": 27,
   "id": "f4ada464",
   "metadata": {},
   "outputs": [
    {
     "data": {
      "image/png": "[encoded data removed]",
      "text/plain": [
       "<Figure size 1000x1000 with 1 Axes>"
      ]
     },
     "metadata": {},
     "output_type": "display_data"
    }
   ],
   "source": [
    "plt.figure(figsize=(10,10))\n",
    "plt.bar(positions, goals, color='blue')\n",
    "plt.title(\"Number of goals scored vs positions\")\n",
    "plt.xlabel(\"Player Positions\")\n",
    "plt.ylabel(\"Goals\")\n",
    "plt.show()"
   ]
  },
  {
   "cell_type": "markdown",
   "id": "1b77f942",
   "metadata": {},
   "source": [
    "# Predictions"
   ]
  },
  {
   "cell_type": "markdown",
   "id": "1a76a557",
   "metadata": {},
   "source": [
    " "
   ]
  },
  {
   "cell_type": "markdown",
   "id": "7c37adc3",
   "metadata": {},
   "source": [
    "### Linear Regression: Predicting a player's current value based on relevant factors like age, goals, assists"
   ]
  },
  {
   "cell_type": "code",
   "execution_count": 28,
   "id": "a1d1b345",
   "metadata": {},
   "outputs": [],
   "source": [
    "from sklearn.model_selection import train_test_split\n",
    "from sklearn.linear_model import LinearRegression\n",
    "from sklearn.metrics import mean_squared_error, r2_score\n",
    "from sklearn.preprocessing import StandardScaler"
   ]
  },
  {
   "cell_type": "markdown",
   "id": "4abc1eef",
   "metadata": {},
   "source": [
    "<h3 style=\"color:red;\">The below model needs more fine tuning</h3>"
   ]
  },
  {
   "cell_type": "code",
   "execution_count": 29,
   "id": "912022e3",
   "metadata": {},
   "outputs": [
    {
     "name": "stdout",
     "output_type": "stream",
     "text": [
      "The Mean Squared Error is: 100360581287502.06\n",
      "The R-squared value is: 0.03692315413692937\n"
     ]
    }
   ],
   "source": [
    "\n",
    "playing_positions = ['Attack', 'Midfield'] \n",
    "\n",
    "data_2 = data_new[data_new['player_position'].isin(playing_positions)]\n",
    "\n",
    "features = ['age','goals','assists']\n",
    "target = 'current_value'\n",
    "\n",
    "X = data_2[features]\n",
    "y = data_2[target]\n",
    "\n",
    "scaler = StandardScaler()\n",
    "X_scaled = scaler.fit_transform(X)\n",
    "\n",
    "\n",
    "X_train, X_test, y_train, y_test = train_test_split(X_scaled, y, test_size = 0.2)\n",
    "\n",
    "model = LinearRegression()\n",
    "model.fit(X_train, y_train)\n",
    "y_pred = model.predict(X_test)\n",
    "\n",
    "mse = mean_squared_error(y_test, y_pred)\n",
    "r2 = r2_score(y_test, y_pred)\n",
    "\n",
    "print(\"The Mean Squared Error is:\",mse)\n",
    "print(\"The R-squared value is:\",r2)"
   ]
  },
  {
   "cell_type": "markdown",
   "id": "ec3629a7",
   "metadata": {},
   "source": [
    "### Conclusion:\n",
    "**As we saw through numerious hypothesis testing, the players age, playing position, number of days injured and games missed has a major effect his their current market value. This is alos evident in the real world scenerio For example: Both Samuel Umtiti and Eden Hazard showed significant loss in the market values after they both got a series of injuries which kept them out of the game. Both FC Barcelona and Real Madrid suffered in their investments.**"
   ]
  }
 ],
 "metadata": {
  "kernelspec": {
   "display_name": "Python 3 (ipykernel)",
   "language": "python",
   "name": "python3"
  },
  "language_info": {
   "codemirror_mode": {
    "name": "ipython",
    "version": 3
   },
   "file_extension": ".py",
   "mimetype": "text/x-python",
   "name": "python",
   "nbconvert_exporter": "python",
   "pygments_lexer": "ipython3",
   "version": "3.11.5"
  }
 },
 "nbformat": 4,
 "nbformat_minor": 5
}
